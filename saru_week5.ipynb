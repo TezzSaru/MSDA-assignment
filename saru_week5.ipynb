{
  "nbformat": 4,
  "nbformat_minor": 0,
  "metadata": {
    "colab": {
      "name": "saru_week5.ipynb",
      "provenance": [],
      "collapsed_sections": []
    },
    "kernelspec": {
      "name": "python3",
      "display_name": "Python 3"
    }
  },
  "cells": [
    {
      "cell_type": "code",
      "metadata": {
        "id": "V_973_N3oUyn"
      },
      "source": [
        "import numpy as np \n",
        "import matplotlib.pyplot as plt\n",
        "import pandas as pd"
      ],
      "execution_count": 1,
      "outputs": []
    },
    {
      "cell_type": "markdown",
      "metadata": {
        "id": "HDOwm4iwi7-k"
      },
      "source": [
        "# **Fetching a data from given link**"
      ]
    },
    {
      "cell_type": "code",
      "metadata": {
        "id": "CZe5tmmTiidz"
      },
      "source": [
        "url = 'https://github.com/barnysanchez/clarku-assignment4/raw/main/inputANDoutputs.csv'"
      ],
      "execution_count": 2,
      "outputs": []
    },
    {
      "cell_type": "code",
      "metadata": {
        "id": "OGSxFA9hr3-9"
      },
      "source": [
        "# input data  (student to implement fetch function to grab inputs/outputs file and transform accordingly)\n",
        "# The location to fecth data is:  https://github.com/barnysanchez/clarku-assignment4/raw/main/inputANDoutputs.csv\n",
        "def fetch(url):\n",
        "  data = pd.read_csv(url,sep=',')\n",
        "  input = data.iloc[:,:-1].to_numpy()\n",
        "  # output data\n",
        "  output = data['output'].to_numpy().reshape(-1,1)\n",
        "  return input, output\n"
      ],
      "execution_count": 3,
      "outputs": []
    },
    {
      "cell_type": "code",
      "metadata": {
        "id": "0MY5-Nxky5jO"
      },
      "source": [
        "inputs, outputs = fetch(url)"
      ],
      "execution_count": 4,
      "outputs": []
    },
    {
      "cell_type": "code",
      "metadata": {
        "id": "QdGnW5am2etG",
        "outputId": "4db838b3-c9d9-47d2-9f7b-7e0701a985d8",
        "colab": {
          "base_uri": "https://localhost:8080/",
          "height": 85
        }
      },
      "source": [
        "inputs"
      ],
      "execution_count": 5,
      "outputs": [
        {
          "output_type": "execute_result",
          "data": {
            "text/plain": [
              "array([[0, 0, 1],\n",
              "       [0, 1, 1],\n",
              "       [1, 0, 1],\n",
              "       [1, 0, 0]])"
            ]
          },
          "metadata": {
            "tags": []
          },
          "execution_count": 5
        }
      ]
    },
    {
      "cell_type": "code",
      "metadata": {
        "id": "9Q0pM8EP2giw",
        "outputId": "f75ac732-9694-4723-d752-308357e98003",
        "colab": {
          "base_uri": "https://localhost:8080/",
          "height": 85
        }
      },
      "source": [
        "outputs"
      ],
      "execution_count": 6,
      "outputs": [
        {
          "output_type": "execute_result",
          "data": {
            "text/plain": [
              "array([[0],\n",
              "       [0],\n",
              "       [1],\n",
              "       [1]])"
            ]
          },
          "metadata": {
            "tags": []
          },
          "execution_count": 6
        }
      ]
    },
    {
      "cell_type": "markdown",
      "metadata": {
        "id": "3K3WpViLjzz4"
      },
      "source": [
        "# **Determine the number of epochs needed to achieve 99% prediction accuracy**"
      ]
    },
    {
      "cell_type": "code",
      "metadata": {
        "id": "aeK6RV5yqu34"
      },
      "source": [
        "# create NeuralNetwork class\n",
        "class NeuralNetwork:\n",
        "\n",
        "    # intialize variables in class\n",
        "    def __init__(self, inputs, outputs):\n",
        "        self.inputs  = inputs\n",
        "        self.outputs = outputs\n",
        "        # initialize weights as .50 for simplicity\n",
        "        self.weights = np.array([[.50], [.50], [.50]])\n",
        "        self.error_history = []\n",
        "        self.epoch_list = []\n",
        "        self.accuracy_history = []\n",
        "\n",
        "    #activation function ==> S(x) = 1/1+e^(-x)\n",
        "    def sigmoid(self, x, deriv=False):\n",
        "        if deriv == True:\n",
        "            return x * (1 - x)\n",
        "        return 1 / (1 + np.exp(-x))\n",
        "\n",
        "    # data will flow through the neural network.\n",
        "    def feed_forward(self):\n",
        "        self.hidden = self.sigmoid(np.dot(self.inputs, self.weights))\n",
        "\n",
        "    # going backwards through the network to update weights\n",
        "    def backpropagation(self):\n",
        "        self.error  = self.outputs - self.hidden\n",
        "        delta = self.error * self.sigmoid(self.hidden, deriv=True)\n",
        "        self.weights = self.weights + np.dot(self.inputs.T, delta)\n",
        "\n",
        "    # train the neural net for 5 iterations\n",
        "    def train(self, epochs=5):\n",
        "        for epoch in range(epochs):\n",
        "            # flow forward and produce an output\n",
        "            self.feed_forward()\n",
        "            # go back though the network to make corrections based on the output\n",
        "            self.backpropagation()    \n",
        "            # keep track of the error history over each epoch\n",
        "            presentError = np.average(np.abs(self.error))\n",
        "            accuracy = 1 - presentError\n",
        "            self.error_history.append(presentError)\n",
        "            self.epoch_list.append(epoch)\n",
        "            self.accuracy_history.append(accuracy)\n",
        "            # if accuracy >= 0.99:\n",
        "            #   print (f'Epoch: {epoch} \\nAccuracy: {accuracy}')\n",
        "            #   print(f'The required epoch to get 99% accuracy is {epoch}')\n",
        "            #   break\n",
        "\n",
        "    # function to predict output on new and unseen input data                               \n",
        "    def predict(self, new_input):\n",
        "        prediction = self.sigmoid(np.dot(new_input, self.weights))\n",
        "        return prediction\n"
      ],
      "execution_count": 11,
      "outputs": []
    },
    {
      "cell_type": "code",
      "metadata": {
        "id": "75efMUh3q8US"
      },
      "source": [
        "# create neural network   \n",
        "NN = NeuralNetwork(inputs, outputs)\n",
        "# train neural network\n",
        "NN.train(5000)"
      ],
      "execution_count": 12,
      "outputs": []
    },
    {
      "cell_type": "code",
      "metadata": {
        "id": "W6k7ZEW5rBC_"
      },
      "source": [
        "# create two new examples to predict                                   \n",
        "example = np.array([[1, 0, 0]])\n",
        "example_2 = np.array([[0, 1, 1]])\n"
      ],
      "execution_count": 13,
      "outputs": []
    },
    {
      "cell_type": "code",
      "metadata": {
        "id": "0-naqwJ-yeeQ",
        "outputId": "61dcc8c5-08ae-4f35-a505-e41f45273a70",
        "colab": {
          "base_uri": "https://localhost:8080/",
          "height": 51
        }
      },
      "source": [
        "# print the predictions for both examples                                   \n",
        "print(NN.predict(example), ' - Correct: ', example[0][0])\n",
        "print(NN.predict(example_2), ' - Correct: ', example_2[0][0])"
      ],
      "execution_count": 14,
      "outputs": [
        {
          "output_type": "stream",
          "text": [
            "[[0.99973915]]  - Correct:  1\n",
            "[[0.00367582]]  - Correct:  0\n"
          ],
          "name": "stdout"
        }
      ]
    },
    {
      "cell_type": "code",
      "metadata": {
        "id": "5ztilOmpyeqd",
        "outputId": "ecd86c42-deda-4613-fb5a-d42de7cd3a42",
        "colab": {
          "base_uri": "https://localhost:8080/",
          "height": 572
        }
      },
      "source": [
        "# plot the accuracy over the entire training duration\n",
        "plt.figure(figsize=(15,10))\n",
        "plt.plot(NN.epoch_list, NN.accuracy_history)\n",
        "plt.xlabel('Epoch')\n",
        "plt.ylabel('Accuracy')\n",
        "plt.ylim([0.85,1])\n",
        "plt.axhline(0.99,color='r')\n",
        "plt.show()"
      ],
      "execution_count": 21,
      "outputs": [
        {
          "output_type": "display_data",
          "data": {
            "image/png": "[encoded data removed]",
            "text/plain": [
              "<Figure size 1080x720 with 1 Axes>"
            ]
          },
          "metadata": {
            "tags": [],
            "needs_background": "light"
          }
        }
      ]
    },
    {
      "cell_type": "markdown",
      "metadata": {
        "id": "pKkNYc1-kJnX"
      },
      "source": [
        "# **Determine the number of epochs needed to achieve 99% prediction accuracy with softmax function**"
      ]
    },
    {
      "cell_type": "code",
      "metadata": {
        "id": "FeZ8oTrWM4tG"
      },
      "source": [
        "# create NeuralNetwork class for softmax\n",
        "class SoftNeuralNetwork:\n",
        "\n",
        "    # intialize variables in class\n",
        "    def __init__(self, inputs, outputs):\n",
        "        self.inputs  = inputs\n",
        "        self.outputs = outputs\n",
        "        # initialize weights as .50 for simplicity\n",
        "        self.weights = np.array([[.50], [.50], [.50]])\n",
        "        self.error_history = []\n",
        "        self.epoch_list = []\n",
        "        self.accuracy_history = []\n",
        "\n",
        "    #softmax activation function\n",
        "    def softmax(self, x, deriv=False):\n",
        "        if deriv == True:\n",
        "            return x * (1 - x)\n",
        "        return np.exp(x)/np.sum(np.exp(x))\n",
        "\n",
        "    # data will flow through the neural network.\n",
        "    def feed_forward(self):\n",
        "        self.hidden = self.softmax(np.dot(self.inputs, self.weights))\n",
        "\n",
        "    # going backwards through the network to update weights\n",
        "    def backpropagation(self):\n",
        "        self.error  = self.outputs - self.hidden\n",
        "        delta = self.error * self.softmax(self.hidden, deriv=True)\n",
        "        self.weights = self.weights + np.dot(self.inputs.T, delta)\n",
        "\n",
        "    # train the neural net for 5 iterations\n",
        "    def train(self, epochs=5):\n",
        "        for epoch in range(epochs):\n",
        "            # flow forward and produce an output\n",
        "            self.feed_forward()\n",
        "            # go back though the network to make corrections based on the output\n",
        "            self.backpropagation()    \n",
        "            # keep track of the error history over each epoch\n",
        "            presentError = np.average(np.abs(self.error))\n",
        "            accuracy = 1 - presentError\n",
        "            self.error_history.append(presentError)\n",
        "            self.epoch_list.append(epoch)\n",
        "            self.accuracy_history.append(accuracy)\n",
        "            # if accuracy >= 0.99:\n",
        "            #   print (f'Epoch: {epoch} \\nAccuracy: {accuracy}')\n",
        "            #   print(f'The required epoch to get 99% accuracy is {epoch}')\n",
        "            #   break\n",
        "\n",
        "    # function to predict output on new and unseen input data                               \n",
        "    def predict(self, new_input):\n",
        "        prediction = self.softmax(np.dot(new_input, self.weights))\n",
        "        return prediction\n"
      ],
      "execution_count": 77,
      "outputs": []
    },
    {
      "cell_type": "code",
      "metadata": {
        "id": "NiRpWONbNyok"
      },
      "source": [
        "softNN = SoftNeuralNetwork(inputs,outputs)\n",
        "softNN.train(5000)"
      ],
      "execution_count": 73,
      "outputs": []
    },
    {
      "cell_type": "code",
      "metadata": {
        "id": "MpkPKx-6luca"
      },
      "source": [
        "# create two new examples to predict                                   \n",
        "example1 = np.array([[1, 0, 0]])\n",
        "example2 = np.array([[0, 1, 1]])\n"
      ],
      "execution_count": 74,
      "outputs": []
    },
    {
      "cell_type": "code",
      "metadata": {
        "id": "sLD0rL1Dl0yi",
        "outputId": "c811a25f-2d65-4026-9d64-0d11e1e3cd56",
        "colab": {
          "base_uri": "https://localhost:8080/",
          "height": 51
        }
      },
      "source": [
        "# print the predictions for both examples                                   \n",
        "print(softNN.predict(example1), ' - Correct: ', example1[0][0])\n",
        "print(softNN.predict(example2), ' - Correct: ', example2[0][0])"
      ],
      "execution_count": 75,
      "outputs": [
        {
          "output_type": "stream",
          "text": [
            "[[1.]]  - Correct:  1\n",
            "[[1.]]  - Correct:  0\n"
          ],
          "name": "stdout"
        }
      ]
    },
    {
      "cell_type": "code",
      "metadata": {
        "id": "se-EUcz6mCag",
        "outputId": "54f8da74-933f-45d0-b099-31c218ed5eec",
        "colab": {
          "base_uri": "https://localhost:8080/",
          "height": 575
        }
      },
      "source": [
        "# plot the accuracy over the entire training duration\n",
        "plt.figure(figsize=(15,10))\n",
        "plt.plot(softNN.epoch_list, softNN.accuracy_history)\n",
        "plt.xlabel('Epoch')\n",
        "plt.ylabel('Accuracy')\n",
        "plt.ylim([0,1])\n",
        "plt.show()"
      ],
      "execution_count": 78,
      "outputs": [
        {
          "output_type": "display_data",
          "data": {
            "image/png": "[encoded data removed]",
            "text/plain": [
              "<Figure size 1080x720 with 1 Axes>"
            ]
          },
          "metadata": {
            "tags": [],
            "needs_background": "light"
          }
        }
      ]
    }
  ]
}