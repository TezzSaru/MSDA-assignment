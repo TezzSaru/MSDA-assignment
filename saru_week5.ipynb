{
  "nbformat": 4,
  "nbformat_minor": 0,
  "metadata": {
    "colab": {
      "name": "saru_week5.ipynb",
      "provenance": [],
      "collapsed_sections": []
    },
    "kernelspec": {
      "name": "python3",
      "display_name": "Python 3"
    }
  },
  "cells": [
    {
      "cell_type": "code",
      "metadata": {
        "id": "V_973_N3oUyn"
      },
      "source": [
        "import numpy as np \n",
        "import matplotlib.pyplot as plt\n",
        "import pandas as pd"
      ],
      "execution_count": 1,
      "outputs": []
    },
    {
      "cell_type": "markdown",
      "metadata": {
        "id": "HDOwm4iwi7-k"
      },
      "source": [
        "# **Fetching a data from given link**"
      ]
    },
    {
      "cell_type": "code",
      "metadata": {
        "id": "CZe5tmmTiidz"
      },
      "source": [
        "url = 'https://github.com/barnysanchez/clarku-assignment4/raw/main/inputANDoutputs.csv'"
      ],
      "execution_count": 6,
      "outputs": []
    },
    {
      "cell_type": "code",
      "metadata": {
        "id": "OGSxFA9hr3-9"
      },
      "source": [
        "# input data  (student to implement fetch function to grab inputs/outputs file and transform accordingly)\n",
        "# The location to fecth data is:  https://github.com/barnysanchez/clarku-assignment4/raw/main/inputANDoutputs.csv\n",
        "def fetch(url):\n",
        "  data = pd.read_csv(url,sep=',')\n",
        "  input = data.iloc[:,:-1].to_numpy()\n",
        "  # output data\n",
        "  output = data['output'].to_numpy().reshape(-1,1)\n",
        "  return input, output\n"
      ],
      "execution_count": 9,
      "outputs": []
    },
    {
      "cell_type": "code",
      "metadata": {
        "id": "0MY5-Nxky5jO"
      },
      "source": [
        "inputs, outputs = fetch(url)"
      ],
      "execution_count": 10,
      "outputs": []
    },
    {
      "cell_type": "code",
      "metadata": {
        "id": "QdGnW5am2etG",
        "outputId": "2ae7b229-a3ed-40cd-82ca-4c2bba537403",
        "colab": {
          "base_uri": "https://localhost:8080/",
          "height": 85
        }
      },
      "source": [
        "inputs"
      ],
      "execution_count": 11,
      "outputs": [
        {
          "output_type": "execute_result",
          "data": {
            "text/plain": [
              "array([[0, 0, 1],\n",
              "       [0, 1, 1],\n",
              "       [1, 0, 1],\n",
              "       [1, 0, 0]])"
            ]
          },
          "metadata": {
            "tags": []
          },
          "execution_count": 11
        }
      ]
    },
    {
      "cell_type": "code",
      "metadata": {
        "id": "9Q0pM8EP2giw",
        "outputId": "acb944a5-5534-4b20-c5bd-9f7dfa0052d8",
        "colab": {
          "base_uri": "https://localhost:8080/",
          "height": 85
        }
      },
      "source": [
        "outputs"
      ],
      "execution_count": 13,
      "outputs": [
        {
          "output_type": "execute_result",
          "data": {
            "text/plain": [
              "array([[0],\n",
              "       [0],\n",
              "       [1],\n",
              "       [1]])"
            ]
          },
          "metadata": {
            "tags": []
          },
          "execution_count": 13
        }
      ]
    },
    {
      "cell_type": "markdown",
      "metadata": {
        "id": "3K3WpViLjzz4"
      },
      "source": [
        "# **Determine the number of epochs needed to achieve 99% prediction accuracy**"
      ]
    },
    {
      "cell_type": "code",
      "metadata": {
        "id": "aeK6RV5yqu34"
      },
      "source": [
        "# create NeuralNetwork class\n",
        "class NeuralNetwork:\n",
        "\n",
        "    # intialize variables in class\n",
        "    def __init__(self, inputs, outputs):\n",
        "        self.inputs  = inputs\n",
        "        self.outputs = outputs\n",
        "        # initialize weights as .50 for simplicity\n",
        "        self.weights = np.array([[.50], [.50], [.50]])\n",
        "        self.error_history = []\n",
        "        self.epoch_list = []\n",
        "\n",
        "    #activation function ==> S(x) = 1/1+e^(-x)\n",
        "    def sigmoid(self, x, deriv=False):\n",
        "        if deriv == True:\n",
        "            return x * (1 - x)\n",
        "        return 1 / (1 + np.exp(-x))\n",
        "\n",
        "    # data will flow through the neural network.\n",
        "    def feed_forward(self):\n",
        "        self.hidden = self.sigmoid(np.dot(self.inputs, self.weights))\n",
        "\n",
        "    # going backwards through the network to update weights\n",
        "    def backpropagation(self):\n",
        "        self.error  = self.outputs - self.hidden\n",
        "        delta = self.error * self.sigmoid(self.hidden, deriv=True)\n",
        "        self.weights = self.weights + np.dot(self.inputs.T, delta)\n",
        "\n",
        "    # train the neural net for 5 iterations\n",
        "    def train(self, epochs=5):\n",
        "        for epoch in range(epochs):\n",
        "            # flow forward and produce an output\n",
        "            self.feed_forward()\n",
        "            # go back though the network to make corrections based on the output\n",
        "            self.backpropagation()    \n",
        "            # keep track of the error history over each epoch\n",
        "            presentError = np.average(np.abs(self.error))\n",
        "            accuracy = 1 - presentError\n",
        "            self.error_history.append(presentError)\n",
        "            self.epoch_list.append(epoch)\n",
        "            if accuracy >= 0.99:\n",
        "              print (f'Epoch: {epoch} \\nAccuracy: {accuracy}')\n",
        "              print(f'The required epoch to get 99% accuracy is {epoch}')\n",
        "              break\n",
        "\n",
        "    # function to predict output on new and unseen input data                               \n",
        "    def predict(self, new_input):\n",
        "        prediction = self.sigmoid(np.dot(new_input, self.weights))\n",
        "        return prediction\n"
      ],
      "execution_count": 15,
      "outputs": []
    },
    {
      "cell_type": "code",
      "metadata": {
        "id": "75efMUh3q8US",
        "outputId": "19b29ab7-6764-4e07-b9a1-0148cf63002a",
        "colab": {
          "base_uri": "https://localhost:8080/",
          "height": 68
        }
      },
      "source": [
        "# create neural network   \n",
        "NN = NeuralNetwork(inputs, outputs)\n",
        "# train neural network\n",
        "NN.train(5000)"
      ],
      "execution_count": 16,
      "outputs": [
        {
          "output_type": "stream",
          "text": [
            "Epoch: 4058 \n",
            "Accuracy: 0.9900012868022382\n",
            "The required epoch to get 99% accuracy is 4058\n"
          ],
          "name": "stdout"
        }
      ]
    },
    {
      "cell_type": "code",
      "metadata": {
        "id": "W6k7ZEW5rBC_"
      },
      "source": [
        "# create two new examples to predict                                   \n",
        "example = np.array([[1, 0, 0]])\n",
        "example_2 = np.array([[0, 1, 1]])\n"
      ],
      "execution_count": 17,
      "outputs": []
    },
    {
      "cell_type": "code",
      "metadata": {
        "id": "0-naqwJ-yeeQ",
        "outputId": "1c5362b5-f624-4beb-8833-bfb004ce91ce",
        "colab": {
          "base_uri": "https://localhost:8080/",
          "height": 51
        }
      },
      "source": [
        "# print the predictions for both examples                                   \n",
        "print(NN.predict(example), ' - Correct: ', example[0][0])\n",
        "print(NN.predict(example_2), ' - Correct: ', example_2[0][0])"
      ],
      "execution_count": 18,
      "outputs": [
        {
          "output_type": "stream",
          "text": [
            "[[0.99967599]]  - Correct:  1\n",
            "[[0.00415332]]  - Correct:  0\n"
          ],
          "name": "stdout"
        }
      ]
    },
    {
      "cell_type": "code",
      "metadata": {
        "id": "5ztilOmpyeqd",
        "outputId": "688009a9-a9c5-4ee9-fa16-4ed930565d3f",
        "colab": {
          "base_uri": "https://localhost:8080/",
          "height": 312
        }
      },
      "source": [
        "# plot the error over the entire training duration\n",
        "plt.figure(figsize=(15,5))\n",
        "plt.plot(NN.epoch_list, NN.error_history)\n",
        "plt.xlabel('Epoch')\n",
        "plt.ylabel('Error')\n",
        "plt.show()"
      ],
      "execution_count": 19,
      "outputs": [
        {
          "output_type": "display_data",
          "data": {
            "image/png": "[encoded data removed]",
            "text/plain": [
              "<Figure size 1080x360 with 1 Axes>"
            ]
          },
          "metadata": {
            "tags": [],
            "needs_background": "light"
          }
        }
      ]
    },
    {
      "cell_type": "markdown",
      "metadata": {
        "id": "pKkNYc1-kJnX"
      },
      "source": [
        "# **Determine the number of epochs needed to achieve 99% prediction accuracy with softmax function**"
      ]
    },
    {
      "cell_type": "code",
      "metadata": {
        "id": "FeZ8oTrWM4tG"
      },
      "source": [
        "# create NeuralNetwork class for softmax\n",
        "class SoftNeuralNetwork:\n",
        "\n",
        "    # intialize variables in class\n",
        "    def __init__(self, inputs, outputs):\n",
        "        self.inputs  = inputs\n",
        "        self.outputs = outputs\n",
        "        # initialize weights as .50 for simplicity\n",
        "        self.weights = np.array([[.50], [.50], [.50]])\n",
        "        self.error_history = []\n",
        "        self.epoch_list = []\n",
        "\n",
        "    #activation function\n",
        "    def softmax(self, x, deriv=False):\n",
        "        if deriv == True:\n",
        "            return x * (1 - x)\n",
        "        return np.exp(x)/sum(np.exp(x))\n",
        "\n",
        "    # data will flow through the neural network.\n",
        "    def feed_forward(self):\n",
        "        self.hidden = self.softmax(np.dot(self.inputs, self.weights))\n",
        "\n",
        "    # going backwards through the network to update weights\n",
        "    def backpropagation(self):\n",
        "        self.error  = self.outputs - self.hidden\n",
        "        delta = self.error * self.softmax(self.hidden, deriv=True)\n",
        "        self.weights = self.weights + np.dot(self.inputs.T, delta)\n",
        "\n",
        "    # train the neural net for 5 iterations\n",
        "    def train(self, epochs=5):\n",
        "        for epoch in range(epochs):\n",
        "            # flow forward and produce an output\n",
        "            self.feed_forward()\n",
        "            # go back though the network to make corrections based on the output\n",
        "            self.backpropagation()    \n",
        "            # keep track of the error history over each epoch\n",
        "            presentError = np.average(np.abs(self.error))\n",
        "            accuracy = 1 - presentError\n",
        "            self.error_history.append(presentError)\n",
        "            self.epoch_list.append(epoch)\n",
        "            if accuracy >= 0.99:\n",
        "              print (f'Epoch: {epoch} \\nAccuracy: {accuracy}')\n",
        "              print(f'The required epoch to get 99% accuracy is {epoch}')\n",
        "              break\n",
        "\n",
        "    # function to predict output on new and unseen input data                               \n",
        "    def predict(self, new_input):\n",
        "        prediction = self.softmax(np.dot(new_input, self.weights))\n",
        "        return prediction\n"
      ],
      "execution_count": 28,
      "outputs": []
    },
    {
      "cell_type": "code",
      "metadata": {
        "id": "NiRpWONbNyok"
      },
      "source": [
        "softNN = SoftNeuralNetwork(inputs,outputs)\n",
        "softNN.train(500)"
      ],
      "execution_count": 29,
      "outputs": []
    },
    {
      "cell_type": "code",
      "metadata": {
        "id": "MpkPKx-6luca"
      },
      "source": [
        "# create two new examples to predict                                   \n",
        "example1 = np.array([[1, 0, 0]])\n",
        "example2 = np.array([[0, 1, 1]])\n"
      ],
      "execution_count": 24,
      "outputs": []
    },
    {
      "cell_type": "code",
      "metadata": {
        "id": "sLD0rL1Dl0yi",
        "outputId": "4d09d403-44e5-4766-f101-def88c57b454",
        "colab": {
          "base_uri": "https://localhost:8080/",
          "height": 51
        }
      },
      "source": [
        "# print the predictions for both examples                                   \n",
        "print(softNN.predict(example1), ' - Correct: ', example1[0][0])\n",
        "print(softNN.predict(example2), ' - Correct: ', example2[0][0])"
      ],
      "execution_count": 26,
      "outputs": [
        {
          "output_type": "stream",
          "text": [
            "[[1.]]  - Correct:  1\n",
            "[[1.]]  - Correct:  0\n"
          ],
          "name": "stdout"
        }
      ]
    },
    {
      "cell_type": "code",
      "metadata": {
        "id": "se-EUcz6mCag",
        "outputId": "9be276b7-0250-488e-9d25-13361c0801ef",
        "colab": {
          "base_uri": "https://localhost:8080/",
          "height": 310
        }
      },
      "source": [
        "# plot the error over the entire training duration\n",
        "plt.figure(figsize=(15,5))\n",
        "plt.plot(softNN.epoch_list, softNN.error_history)\n",
        "plt.xlabel('Epoch')\n",
        "plt.ylabel('Error')\n",
        "plt.show()"
      ],
      "execution_count": 27,
      "outputs": [
        {
          "output_type": "display_data",
          "data": {
            "image/png": "[encoded data removed]",
            "text/plain": [
              "<Figure size 1080x360 with 1 Axes>"
            ]
          },
          "metadata": {
            "tags": [],
            "needs_background": "light"
          }
        }
      ]
    }
  ]
}